{
 "cells": [
  {
   "cell_type": "code",
   "execution_count": null,
   "id": "55c27f76",
   "metadata": {},
   "outputs": [],
   "source": [
    "\"\"\"\n",
    "Created By    : Jared W. Marquis\n",
    "Creation Date : 01 August 2022\n",
    "Course        : ATSC 528 - Atmospheric Data Analysis\n",
    "Assignment    : #02 - Successive Corrections\n",
    "\n",
    "Purpose:\n",
    "Script to take sparse upper air observations and analyze them on a\n",
    "polar stereographic map projection using successive corrections.\n",
    "[PUT MORE INFORMATION HERE - I.E., WHAT SPECIFIC THING IS BEING DONE]\n",
    "\n",
    "\"\"\"\n",
    "__author__    = \"Jared W. Marquis\"\n",
    "__contact__   = \"jared.marquis@und.edu\""
   ]
  },
  {
   "cell_type": "code",
   "execution_count": 2,
   "id": "7335135f",
   "metadata": {},
   "outputs": [],
   "source": [
    "### Import Required Modules (shouldn't need to change) ###\n",
    "import numpy as np                 #numpy for math\n",
    "import matplotlib.pyplot as plt    #matplotlib for plotting\n",
    "import cartopy.crs as ccrs         #cartopy for plotting on map\n",
    "import cartopy.feature as cfeature #cartopy basic shapefiles"
   ]
  },
  {
   "cell_type": "code",
   "execution_count": 30,
   "id": "fdc35da3",
   "metadata": {},
   "outputs": [],
   "source": [
    "### Create function for Cressman Analysis ###\n",
    "def weights(d,roi):\n",
    "    if d > roi:\n",
    "        temp = 0\n",
    "    else:\n",
    "        temp = (roi**2 - d**2)/(roi**2 + d**2)\n",
    "    return temp\n"
   ]
  },
  {
   "cell_type": "code",
   "execution_count": 4,
   "id": "e55bf048",
   "metadata": {},
   "outputs": [],
   "source": [
    "### Read in observations ###\n",
    "aplace = np.loadtxt(\"RAOBs_201903131200.txt\",\n",
    "                 delimiter=\",\",usecols=0,dtype='str')\n",
    "anum = np.genfromtxt(\"RAOBs_201903131200.txt\", delimiter=\",\", names=(\"stn\",\"lat\", \"lon\", \"hgts\", \"dir\", \"spd\"))\n",
    "#display(anum2)\n",
    "lat = anum['lat']\n",
    "lon = anum['lon']\n",
    "height = anum['hgts']\n",
    "\n",
    "#print(len(anum[:,0]))"
   ]
  },
  {
   "cell_type": "code",
   "execution_count": 5,
   "id": "9464917a",
   "metadata": {},
   "outputs": [],
   "source": [
    "### Set up analysis map with a 22x28 rectangular grid of points ###\n",
    "x0 = 18.9\n",
    "y0 = -6.3\n",
    "xgrid = x0+np.arange(22)*1.27\n",
    "ygrid = y0+np.arange(28)*1.27 #in southwest corner\n",
    "\n",
    "x,y = np.meshgrid(xgrid, ygrid, indexing='xy')\n",
    "#print(alist)"
   ]
  },
  {
   "cell_type": "code",
   "execution_count": 18,
   "id": "64629e3a",
   "metadata": {},
   "outputs": [],
   "source": [
    "### convert obs lat/long to x,y###\n",
    "'''\n",
    "Note: to convert between lat/lon, we use the general equation\n",
    " y = m*rho*sigma*cos(phi)*sin(lambda0 - lambda), where rho = avg radius of earth (in cm), phi = lat, lambda = lon, lambda0 = 60N (given), m = map conversion factor, and sigma = ((1+sin(phi0))/(1+sin(phi)))\n",
    " x = m*rho*sigma*cos(phi)*cos(lambda0 - lambda)\n",
    "'''\n",
    "xobs = np.empty(len(lon))\n",
    "yobs = np.empty(len(lat))\n",
    "m = 1/15000000\n",
    "l = -115\n",
    "phi0 = 60\n",
    "r = 637100000 #centimeters\n",
    "\n",
    "for n in np.arange(len(anum)):\n",
    "    xobs[n] = m*r*((1+np.sin(phi0*np.pi/180))/(1+np.sin(lat[n]*np.pi/180)))*np.cos(lat[n]*np.pi/180)*np.cos((lon[n]*np.pi/180)-(l*np.pi/180))\n",
    "    yobs[n] = m*r*((1+np.sin(phi0*np.pi/180))/(1+np.sin(lat[n]*np.pi/180)))*np.cos(lat[n]*np.pi/180)*np.sin((lon[n]*np.pi/180)-(l*np.pi/180))\n"
   ]
  },
  {
   "cell_type": "code",
   "execution_count": 19,
   "id": "8d5634ab",
   "metadata": {},
   "outputs": [
    {
     "name": "stdout",
     "output_type": "stream",
     "text": [
      "2.5548700820071426\n"
     ]
    }
   ],
   "source": [
    "### Perform 500mb geopotential height analyses using a Cressman weighting Function###\n",
    "#Use radii of influence 4, 2.5, 1.5 *dmin\n",
    "\n",
    "### Finding dmin ###\n",
    "'''\n",
    "radius = (xobs**2 + yobs**2)**0.5\n",
    "dmin = sum(radius)/len(radius)\n",
    "'''\n",
    "dmin = 0\n",
    "#radius = np.zeros((len(xobs),len(yobs)))\n",
    "tdmin = np.empty((len(xobs),len(yobs)))\n",
    "for i in range(len(xobs)):\n",
    "    relx = xobs[i] - xobs\n",
    "    rely = yobs[i] - yobs\n",
    "    radius = (relx**2 + rely**2)**0.5\n",
    "    radius = np.delete(radius,i)\n",
    "    dmin += np.amin(radius)\n",
    "    \n",
    "dmin = dmin / len(xobs)\n",
    "\n",
    "print(dmin)\n"
   ]
  },
  {
   "cell_type": "code",
   "execution_count": 15,
   "id": "ba3f74a9-f6f2-47a6-b4e7-01790544ad78",
   "metadata": {},
   "outputs": [
    {
     "name": "stdout",
     "output_type": "stream",
     "text": [
      "-6.3 -5.029999999999999 -6.3\n",
      "18.9 18.9 20.169999999999998\n"
     ]
    }
   ],
   "source": [
    "print(y[0,0],y[1,0],y[0,1])\n",
    "print(x[0,0],x[1,0],x[0,1])"
   ]
  },
  {
   "cell_type": "code",
   "execution_count": 32,
   "id": "b602b6ab-65db-4a0c-8164-97773a9884bd",
   "metadata": {},
   "outputs": [
    {
     "name": "stdout",
     "output_type": "stream",
     "text": [
      "[[[0.         0.         0.         ... 0.30820212 0.         0.88228993]\n",
      "  [0.         0.         0.         ... 0.32287342 0.         0.85816285]\n",
      "  [0.         0.         0.         ... 0.16648812 0.         0.5269842 ]\n",
      "  ...\n",
      "  [0.         0.         0.         ... 0.         0.         0.        ]\n",
      "  [0.         0.         0.         ... 0.         0.         0.        ]\n",
      "  [0.         0.         0.         ... 0.         0.         0.        ]]\n",
      "\n",
      " [[0.         0.         0.         ... 0.         0.         0.52969493]\n",
      "  [0.         0.         0.         ... 0.         0.         0.51372197]\n",
      "  [0.         0.         0.         ... 0.         0.         0.28643347]\n",
      "  ...\n",
      "  [0.         0.         0.         ... 0.         0.         0.        ]\n",
      "  [0.         0.         0.         ... 0.         0.         0.        ]\n",
      "  [0.         0.         0.         ... 0.         0.         0.        ]]\n",
      "\n",
      " [[0.         0.         0.         ... 0.         0.         0.12866317]\n",
      "  [0.         0.         0.         ... 0.         0.         0.1199436 ]\n",
      "  [0.         0.         0.         ... 0.         0.         0.        ]\n",
      "  ...\n",
      "  [0.         0.         0.         ... 0.         0.         0.        ]\n",
      "  [0.         0.         0.         ... 0.         0.         0.        ]\n",
      "  [0.         0.         0.         ... 0.         0.         0.        ]]\n",
      "\n",
      " ...\n",
      "\n",
      " [[0.         0.15952277 0.         ... 0.         0.         0.        ]\n",
      "  [0.         0.57425822 0.         ... 0.         0.         0.        ]\n",
      "  [0.         0.93110843 0.         ... 0.         0.         0.        ]\n",
      "  ...\n",
      "  [0.         0.         0.         ... 0.         0.         0.        ]\n",
      "  [0.         0.         0.         ... 0.         0.         0.        ]\n",
      "  [0.         0.         0.         ... 0.         0.         0.        ]]\n",
      "\n",
      " [[0.         0.09475547 0.         ... 0.         0.         0.        ]\n",
      "  [0.         0.45721182 0.         ... 0.         0.         0.        ]\n",
      "  [0.         0.75790319 0.         ... 0.         0.         0.        ]\n",
      "  ...\n",
      "  [0.         0.         0.         ... 0.         0.         0.        ]\n",
      "  [0.         0.         0.         ... 0.         0.         0.        ]\n",
      "  [0.         0.         0.         ... 0.         0.         0.        ]]\n",
      "\n",
      " [[0.         0.         0.         ... 0.         0.         0.        ]\n",
      "  [0.         0.18051805 0.         ... 0.         0.         0.        ]\n",
      "  [0.         0.37042011 0.         ... 0.         0.         0.        ]\n",
      "  ...\n",
      "  [0.         0.         0.         ... 0.         0.         0.        ]\n",
      "  [0.         0.         0.         ... 0.         0.         0.        ]\n",
      "  [0.         0.         0.         ... 0.         0.         0.        ]]]\n"
     ]
    }
   ],
   "source": [
    "tempx=np.empty(len(xobs))\n",
    "tempy=np.empty(len(yobs))\n",
    "radius=np.empty(shape=(len(x[0]),len(x),len(xobs)))\n",
    "\n",
    "for i in range(len(x[0])):\n",
    "    for j in range(len(x)):\n",
    "        for k in range(len(xobs)):\n",
    "            tempx[k] = x[j,i] - xobs[k]\n",
    "            tempy[k] = y[j,i] - yobs[k]\n",
    "            #determine number of points in ROI\n",
    "            radius[i,j,k] = (tempx[k]**2 + tempy[k]**2)**0.5\n",
    "\n",
    "w15 = np.zeros(shape=(len(x),len(x[0]),len(xobs)))\n",
    "w25 = np.zeros(shape=(len(x),len(x[0]),len(xobs)))\n",
    "w40 = np.zeros(shape=(len(x),len(x[0]),len(xobs)))\n",
    "\n",
    "for i in range(len(x)):\n",
    "    for j in range(len(x[0])):\n",
    "        for k in range(len(xobs)):\n",
    "            w15[i,j,k] = weights(radius[j,i,k],1.5*dmin)\n",
    "            w25[i,j,k] = weights(radius[j,i,k],2.5*dmin)\n",
    "            w40[i,j,k] = weights(radius[j,i,k],4*dmin)  \n",
    "\n",
    "print(w15)"
   ]
  },
  {
   "cell_type": "code",
   "execution_count": 33,
   "id": "505792c8-2a13-48d5-b7b4-975f47e9d6ca",
   "metadata": {},
   "outputs": [
    {
     "name": "stdout",
     "output_type": "stream",
     "text": [
      "[[[0.         0.         0.03193635 ... 0.86156523 0.         0.98256519]\n",
      "  [0.         0.         0.12445385 ... 0.8657058  0.         0.97875964]\n",
      "  [0.         0.         0.2120729  ... 0.81738328 0.         0.91651364]\n",
      "  ...\n",
      "  [0.         0.         0.         ... 0.         0.         0.        ]\n",
      "  [0.         0.         0.         ... 0.         0.         0.        ]\n",
      "  [0.         0.         0.         ... 0.         0.         0.        ]]\n",
      "\n",
      " [[0.         0.         0.11847882 ... 0.73130256 0.         0.91711325]\n",
      "  [0.         0.         0.22798819 ... 0.73488337 0.         0.91355459]\n",
      "  [0.         0.         0.3332403  ... 0.69302395 0.         0.85528291]\n",
      "  ...\n",
      "  [0.         0.         0.         ... 0.         0.         0.        ]\n",
      "  [0.         0.         0.         ... 0.         0.         0.        ]\n",
      "  [0.         0.         0.         ... 0.         0.         0.        ]]\n",
      "\n",
      " [[0.         0.         0.19827272 ... 0.57862947 0.         0.80413644]\n",
      "  [0.         0.         0.32484869 ... 0.58160604 0.         0.80098451]\n",
      "  [0.         0.         0.44819355 ... 0.54674213 0.         0.74927452]\n",
      "  ...\n",
      "  [0.         0.         0.         ... 0.         0.         0.        ]\n",
      "  [0.         0.         0.         ... 0.         0.         0.        ]\n",
      "  [0.         0.         0.         ... 0.         0.         0.        ]]\n",
      "\n",
      " ...\n",
      "\n",
      " [[0.         0.81499455 0.         ... 0.         0.25260539 0.        ]\n",
      "  [0.         0.92672553 0.         ... 0.         0.35762258 0.        ]\n",
      "  [0.         0.9900166  0.         ... 0.         0.44870616 0.        ]\n",
      "  ...\n",
      "  [0.         0.         0.         ... 0.         0.         0.        ]\n",
      "  [0.         0.         0.         ... 0.         0.         0.        ]\n",
      "  [0.         0.         0.         ... 0.         0.         0.        ]]\n",
      "\n",
      " [[0.         0.79166247 0.         ... 0.         0.14639619 0.        ]\n",
      "  [0.         0.90045318 0.         ... 0.         0.23373855 0.        ]\n",
      "  [0.         0.9620024  0.         ... 0.         0.30849998 0.        ]\n",
      "  ...\n",
      "  [0.         0.         0.         ... 0.         0.         0.        ]\n",
      "  [0.         0.         0.         ... 0.         0.         0.        ]\n",
      "  [0.         0.         0.         ... 0.         0.         0.        ]]\n",
      "\n",
      " [[0.         0.72188319 0.         ... 0.         0.03981969 0.        ]\n",
      "  [0.         0.82212778 0.         ... 0.         0.11117172 0.        ]\n",
      "  [0.         0.87863274 0.         ... 0.         0.17145363 0.        ]\n",
      "  ...\n",
      "  [0.         0.         0.         ... 0.         0.         0.        ]\n",
      "  [0.         0.         0.         ... 0.         0.         0.        ]\n",
      "  [0.         0.         0.         ... 0.         0.         0.        ]]]\n"
     ]
    }
   ],
   "source": [
    "print(w40)"
   ]
  },
  {
   "cell_type": "code",
   "execution_count": null,
   "id": "c4450fdd",
   "metadata": {},
   "outputs": [],
   "source": [
    "### First analysis, no successive corrections ###\n",
    "'''\n",
    "fa(ri) = fb(ri) + {SUM(w(ob-an)*[fo(ob loc) - fb(ob loc)]}/[SUM(w(ob-an))]\n",
    "analysis at analysis point = background at analysis point + {sum of weights*(ob-an)*[obs at obs location - background at obs location]}/\n",
    "                                                                                    {SUM[weights(ob-an)]}\n",
    "'''\n",
    "\n"
   ]
  },
  {
   "cell_type": "code",
   "execution_count": null,
   "id": "4bca0a81",
   "metadata": {},
   "outputs": [],
   "source": [
    "### Next Analyses ###"
   ]
  },
  {
   "cell_type": "code",
   "execution_count": null,
   "id": "49d5d9ef",
   "metadata": {},
   "outputs": [],
   "source": [
    "### Calculate Analysis Differences\n"
   ]
  },
  {
   "cell_type": "code",
   "execution_count": null,
   "id": "89c8ecdc",
   "metadata": {},
   "outputs": [],
   "source": [
    "### Plot 500mb analyses over a map ###\n",
    "#use old code...\n",
    "\n"
   ]
  },
  {
   "cell_type": "code",
   "execution_count": null,
   "id": "fa70d076",
   "metadata": {},
   "outputs": [],
   "source": [
    "### Plot Analysis Differences ###\n"
   ]
  },
  {
   "cell_type": "code",
   "execution_count": null,
   "id": "b141bb9c",
   "metadata": {},
   "outputs": [],
   "source": [
    "### Store the analyses in text files ###\n"
   ]
  },
  {
   "cell_type": "code",
   "execution_count": null,
   "id": "67e29b4a",
   "metadata": {},
   "outputs": [],
   "source": [
    "### Store the difference fields in text files ###\n"
   ]
  },
  {
   "cell_type": "code",
   "execution_count": null,
   "id": "dc488357",
   "metadata": {},
   "outputs": [],
   "source": [
    "### Store RMS values in text file ###\n"
   ]
  },
  {
   "cell_type": "code",
   "execution_count": null,
   "id": "661c6680",
   "metadata": {},
   "outputs": [],
   "source": [
    "### In a separte text file (or below), answer the following questions ###\n",
    "'''\n",
    "1 - Describe the general features that you see in your contoured analyses.\n",
    "    \n",
    "\n",
    "2 - Describe the differences that you see in your contoured analyses.  \n",
    "    Does one analysis seem to be smoother than the other?  If so, what would cause this?\n",
    "    \n",
    "\n",
    "3 - What happens as you increase the number of successive correction passes?  Is this \n",
    "    desirable?  Why or why not?\n",
    "    \n",
    "\n",
    "'''"
   ]
  }
 ],
 "metadata": {
  "kernelspec": {
   "display_name": "Python 3 (ipykernel)",
   "language": "python",
   "name": "python3"
  },
  "language_info": {
   "codemirror_mode": {
    "name": "ipython",
    "version": 3
   },
   "file_extension": ".py",
   "mimetype": "text/x-python",
   "name": "python",
   "nbconvert_exporter": "python",
   "pygments_lexer": "ipython3",
   "version": "3.12.6"
  }
 },
 "nbformat": 4,
 "nbformat_minor": 5
}
