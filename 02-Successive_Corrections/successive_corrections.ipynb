{
 "cells": [
  {
   "cell_type": "code",
   "execution_count": null,
   "id": "55c27f76",
   "metadata": {},
   "outputs": [],
   "source": [
    "\"\"\"\n",
    "Created By    : Jared W. Marquis\n",
    "Creation Date : 01 August 2022\n",
    "Course        : ATSC 528 - Atmospheric Data Analysis\n",
    "Assignment    : #02 - Successive Corrections\n",
    "\n",
    "Purpose:\n",
    "Script to take sparse upper air observations and analyze them on a\n",
    "polar stereographic map projection using successive corrections.\n",
    "[PUT MORE INFORMATION HERE - I.E., WHAT SPECIFIC THING IS BEING DONE]\n",
    "\n",
    "\"\"\"\n",
    "__author__    = \"Jared W. Marquis\"\n",
    "__contact__   = \"jared.marquis@und.edu\""
   ]
  },
  {
   "cell_type": "code",
   "execution_count": 2,
   "id": "7335135f",
   "metadata": {},
   "outputs": [],
   "source": [
    "### Import Required Modules (shouldn't need to change) ###\n",
    "import numpy as np                 #numpy for math\n",
    "import matplotlib.pyplot as plt    #matplotlib for plotting\n",
    "import cartopy.crs as ccrs         #cartopy for plotting on map\n",
    "import cartopy.feature as cfeature #cartopy basic shapefiles"
   ]
  },
  {
   "cell_type": "code",
   "execution_count": 9,
   "id": "fdc35da3",
   "metadata": {},
   "outputs": [],
   "source": [
    "### Create function for Cressman Analysis ###\n",
    "def weights(d,roi):\n",
    "    temp = np.empty(len(d))\n",
    "    for n in np.arange(len(d)):\n",
    "        if d[n] > roi:\n",
    "            temp[n] = 0\n",
    "        else:\n",
    "            temp[n] = (roi**2 - d[n]**2)/(roi**2 + d[n]**2)\n",
    "    return temp\n"
   ]
  },
  {
   "cell_type": "code",
   "execution_count": 4,
   "id": "e55bf048",
   "metadata": {},
   "outputs": [],
   "source": [
    "### Read in observations ###\n",
    "aplace = np.loadtxt(\"RAOBs_201903131200.txt\",\n",
    "                 delimiter=\",\",usecols=0,dtype='str')\n",
    "anum = np.genfromtxt(\"RAOBs_201903131200.txt\", delimiter=\",\", names=(\"stn\",\"lat\", \"lon\", \"hgts\", \"dir\", \"spd\"))\n",
    "#display(anum2)\n",
    "lat = anum['lat']\n",
    "lon = anum['lon']\n",
    "height = anum['hgts']\n",
    "\n",
    "#print(len(anum[:,0]))"
   ]
  },
  {
   "cell_type": "code",
   "execution_count": 5,
   "id": "9464917a",
   "metadata": {},
   "outputs": [],
   "source": [
    "### Set up analysis map with a 22x28 rectangular grid of points ###\n",
    "x0 = 18.9\n",
    "y0 = -6.3\n",
    "xgrid = x0+np.arange(22)*1.27\n",
    "ygrid = y0+np.arange(28)*1.27 #in southwest corner\n",
    "\n",
    "x,y = np.meshgrid(xgrid, ygrid, indexing='xy')\n",
    "#print(alist)"
   ]
  },
  {
   "cell_type": "code",
   "execution_count": 6,
   "id": "64629e3a",
   "metadata": {},
   "outputs": [],
   "source": [
    "### convert obs lat/long to x,y###\n",
    "'''\n",
    "Note: to convert between lat/lon, we use the general equation\n",
    " y = m*rho*sigma*cos(phi)*sin(lambda0 - lambda), where rho = avg radius of earth (in cm), phi = lat, lambda = lon, lambda0 = 60N (given), m = map conversion factor, and sigma = ((1+sin(phi0))/(1+sin(phi)))\n",
    " x = m*rho*sigma*cos(phi)*cos(lambda0 - lambda)\n",
    "'''\n",
    "xobs = np.empty(len(lon))\n",
    "yobs = np.empty(len(lat))\n",
    "m = 1/15000000\n",
    "l = -115*np.pi/180\n",
    "phi0 = 60\n",
    "r = 637100000 #centimeters\n",
    "\n",
    "for n in np.arange(len(anum)):\n",
    "    xobs[n] = m*r*((1+np.sin(phi0*np.pi/180))/(1+np.sin(lat[n]*np.pi/180)))*np.cos(lat[n]*np.pi/180)*np.cos((lon[n]*np.pi/180)-l)\n",
    "    yobs[n] = m*r*((1+np.sin(phi0*np.pi/180))/(1+np.sin(lat[n]*np.pi/180)))*np.cos(lat[n]*np.pi/180)*np.sin((lon[n]*np.pi/180)-l)\n"
   ]
  },
  {
   "cell_type": "code",
   "execution_count": 7,
   "id": "8d5634ab",
   "metadata": {},
   "outputs": [
    {
     "name": "stdout",
     "output_type": "stream",
     "text": [
      "2.5548700820071426\n"
     ]
    }
   ],
   "source": [
    "### Perform 500mb geopotential height analyses using a Cressman weighting Function###\n",
    "#Use radii of influence 4, 2.5, 1.5 *dmin\n",
    "\n",
    "### Finding dmin ###\n",
    "'''\n",
    "radius = (xobs**2 + yobs**2)**0.5\n",
    "dmin = sum(radius)/len(radius)\n",
    "'''\n",
    "dmin = 0\n",
    "#radius = np.zeros((len(xobs),len(yobs)))\n",
    "tdmin = np.empty((len(xobs),len(yobs)))\n",
    "for i in range(len(xobs)):\n",
    "    relx = xobs[i] - xobs\n",
    "    rely = yobs[i] - yobs\n",
    "    radius = (relx**2 + rely**2)**0.5\n",
    "    radius = np.delete(radius,i)\n",
    "    dmin += np.amin(radius)\n",
    "    \n",
    "dmin = dmin / len(xobs)\n",
    "\n",
    "print(dmin)\n"
   ]
  },
  {
   "cell_type": "code",
   "execution_count": 17,
   "id": "b602b6ab-65db-4a0c-8164-97773a9884bd",
   "metadata": {},
   "outputs": [
    {
     "name": "stdout",
     "output_type": "stream",
     "text": [
      "[0.         0.         0.         0.         0.         0.\n",
      " 0.         0.         0.         0.         0.         0.\n",
      " 0.         0.         0.         0.         0.         0.\n",
      " 0.         0.         0.         0.         0.         0.\n",
      " 0.         0.         0.         1.         0.         0.\n",
      " 0.         0.         0.         0.         0.         0.\n",
      " 0.         0.         0.         0.6827568  0.         0.\n",
      " 0.         0.         0.         0.         0.         0.\n",
      " 0.         0.         0.         0.         0.         0.\n",
      " 0.         0.         0.         0.         0.         0.\n",
      " 0.         0.         0.         0.         0.         0.\n",
      " 0.         0.         0.         0.         0.         0.\n",
      " 0.         0.         0.         0.02684815 0.         0.\n",
      " 0.         0.         0.         0.01350592 0.         0.\n",
      " 0.         0.         0.         0.         0.         0.\n",
      " 0.         0.         0.29953802 0.         0.         0.\n",
      " 0.         0.         0.         0.         0.01499691 0.\n",
      " 0.         0.         0.         0.         0.         0.\n",
      " 0.         0.27676544 0.         0.         0.         0.\n",
      " 0.         0.         0.         0.         0.         0.\n",
      " 0.         0.         0.         0.         0.         0.\n",
      " 0.         0.         0.31315157 0.         0.         0.\n",
      " 0.         0.         0.        ]\n"
     ]
    }
   ],
   "source": [
    "for i in range(len(x)):\n",
    "        relx = xobs[i] - xobs\n",
    "        rely = yobs[i] - yobs\n",
    "        #determine number of points in ROI\n",
    "        radius = (relx**2 + rely**2)**0.5\n",
    "\n",
    "w_15 = weights(radius,1.5*dmin)\n",
    "w_25 = weights(radius,2.5*dmin)\n",
    "w_40 = weights(radius,4*dmin)\n",
    "\n",
    "print(w_15)"
   ]
  },
  {
   "cell_type": "code",
   "execution_count": null,
   "id": "c4450fdd",
   "metadata": {},
   "outputs": [],
   "source": [
    "### First analysis, no successive corrections ###\n",
    "'''\n",
    "fa(ri) - fb(ri) = {SUM(w(ob-an)*[fo(ob loc) - fb(ob loc)]}/[SUM(w(ob-an))]\n",
    "'''\n"
   ]
  },
  {
   "cell_type": "code",
   "execution_count": null,
   "id": "4bca0a81",
   "metadata": {},
   "outputs": [],
   "source": [
    "### Next Analyses ###"
   ]
  },
  {
   "cell_type": "code",
   "execution_count": null,
   "id": "49d5d9ef",
   "metadata": {},
   "outputs": [],
   "source": [
    "### Calculate Analysis Differences\n"
   ]
  },
  {
   "cell_type": "code",
   "execution_count": null,
   "id": "89c8ecdc",
   "metadata": {},
   "outputs": [],
   "source": [
    "### Plot 500mb analyses over a map ###\n",
    "#use old code...\n",
    "\n"
   ]
  },
  {
   "cell_type": "code",
   "execution_count": null,
   "id": "fa70d076",
   "metadata": {},
   "outputs": [],
   "source": [
    "### Plot Analysis Differences ###\n"
   ]
  },
  {
   "cell_type": "code",
   "execution_count": null,
   "id": "b141bb9c",
   "metadata": {},
   "outputs": [],
   "source": [
    "### Store the analyses in text files ###\n"
   ]
  },
  {
   "cell_type": "code",
   "execution_count": null,
   "id": "67e29b4a",
   "metadata": {},
   "outputs": [],
   "source": [
    "### Store the difference fields in text files ###\n"
   ]
  },
  {
   "cell_type": "code",
   "execution_count": null,
   "id": "dc488357",
   "metadata": {},
   "outputs": [],
   "source": [
    "### Store RMS values in text file ###\n"
   ]
  },
  {
   "cell_type": "code",
   "execution_count": null,
   "id": "661c6680",
   "metadata": {},
   "outputs": [],
   "source": [
    "### In a separte text file (or below), answer the following questions ###\n",
    "'''\n",
    "1 - Describe the general features that you see in your contoured analyses.\n",
    "    \n",
    "\n",
    "2 - Describe the differences that you see in your contoured analyses.  \n",
    "    Does one analysis seem to be smoother than the other?  If so, what would cause this?\n",
    "    \n",
    "\n",
    "3 - What happens as you increase the number of successive correction passes?  Is this \n",
    "    desirable?  Why or why not?\n",
    "    \n",
    "\n",
    "'''"
   ]
  }
 ],
 "metadata": {
  "kernelspec": {
   "display_name": "Python 3 (ipykernel)",
   "language": "python",
   "name": "python3"
  },
  "language_info": {
   "codemirror_mode": {
    "name": "ipython",
    "version": 3
   },
   "file_extension": ".py",
   "mimetype": "text/x-python",
   "name": "python",
   "nbconvert_exporter": "python",
   "pygments_lexer": "ipython3",
   "version": "3.12.6"
  }
 },
 "nbformat": 4,
 "nbformat_minor": 5
}
